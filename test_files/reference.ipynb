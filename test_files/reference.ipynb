{
 "cells": [
  {
   "cell_type": "code",
   "execution_count": 1,
   "metadata": {},
   "outputs": [
    {
     "data": {
      "text/plain": [
       "True"
      ]
     },
     "execution_count": 1,
     "metadata": {},
     "output_type": "execute_result"
    }
   ],
   "source": [
    "# these imports fail just cause they want to sometimes?\n",
    "\n",
    "import firebase_admin\n",
    "from firebase_admin import credentials, firestore, initialize_app, storage, auth\n",
    "from dotenv import load_dotenv\n",
    "import requests\n",
    "import json\n",
    "import os\n",
    "import io\n",
    "\n",
    "load_dotenv()"
   ]
  },
  {
   "cell_type": "markdown",
   "metadata": {},
   "source": [
    "### setup config"
   ]
  },
  {
   "cell_type": "code",
   "execution_count": 2,
   "metadata": {},
   "outputs": [],
   "source": [
    "config = {\n",
    "    'apiKey': os.getenv('APIKEY'),\n",
    "    'authDomain': os.getenv('AUTHDOMAIN'),\n",
    "    'projectId': os.getenv('PROJECT_ID'),\n",
    "    'storageBucket': os.getenv('STORAGE_BUCKET'),\n",
    "    'messagingSenderId': os.getenv('MESSAGING_SENDER_ID'),\n",
    "    'appId': os.getenv('APP_ID'),\n",
    "    'measurementId': os.getenv('MEASUREMENT_ID'),\n",
    "    'databaseURL': os.getenv('DATABASE_URL')\n",
    "}"
   ]
  },
  {
   "cell_type": "markdown",
   "metadata": {},
   "source": [
    "### setup credentials and database access"
   ]
  },
  {
   "cell_type": "code",
   "execution_count": 3,
   "metadata": {},
   "outputs": [],
   "source": [
    "cred = credentials.Certificate(\"../\" + str(os.getenv('CERT_PATH')))\n",
    "firebase_admin.initialize_app(cred, {\n",
    "    'storageBucket': 'redbook-910e9.appspot.com'\n",
    "})\n",
    "db = firestore.client()\n"
   ]
  },
  {
   "cell_type": "markdown",
   "metadata": {},
   "source": [
    "### authentication (no pyrebase)"
   ]
  },
  {
   "cell_type": "code",
   "execution_count": 4,
   "metadata": {},
   "outputs": [],
   "source": [
    "def sign_up_with_email_password(email, password):\n",
    "    \"\"\"Create a new user with email and password.\"\"\"\n",
    "    try:\n",
    "        user = auth.create_user(email=email, password=password)\n",
    "        print('Successfully created new user:', user.uid)\n",
    "        return user.uid\n",
    "    except Exception as e:\n",
    "        print('Error creating new user:', e)\n",
    "        return None\n",
    "\n",
    "def sign_in_with_email_password(email, password):\n",
    "    \"\"\"Sign in existing user with email and password.\"\"\"\n",
    "    url = \"https://identitytoolkit.googleapis.com/v1/accounts:signInWithPassword?key=\" + os.getenv('APIKEY')\n",
    "    payload = {\n",
    "        \"email\": email,\n",
    "        \"password\": password,\n",
    "        \"returnSecureToken\": True\n",
    "    }\n",
    "    response = requests.post(url, json=payload)\n",
    "    if response.status_code == 200:\n",
    "        data = response.json()\n",
    "        # print('Successfully signed in user:', data['localId'])\n",
    "        # print('ID Token:', data['idToken'])\n",
    "        return data\n",
    "    else:\n",
    "        print('Failed to sign in:', response.json())\n",
    "        return None\n",
    "\n",
    "def verify_id_token(id_token):\n",
    "    \"\"\"Verify the ID token using Firebase Admin SDK.\"\"\"\n",
    "    try:\n",
    "        decoded_token = auth.verify_id_token(id_token)\n",
    "        uid = decoded_token['uid']\n",
    "        print('Successfully verified ID token for user:', uid)\n",
    "        return decoded_token\n",
    "    except Exception as e:\n",
    "        print('Error verifying ID token:', e)\n",
    "        return None"
   ]
  },
  {
   "cell_type": "code",
   "execution_count": 5,
   "metadata": {},
   "outputs": [
    {
     "name": "stdout",
     "output_type": "stream",
     "text": [
      "VaQIZzpBplPRuHV9KQzW8kJDJ2f2\n",
      "test@gmail.com\n"
     ]
    }
   ],
   "source": [
    "email = \"test@gmail.com\"\n",
    "password = \"test123\"\n",
    "\n",
    "sign_in_data = sign_in_with_email_password(email, password)\n",
    "\n",
    "print(sign_in_data['localId'])\n",
    "print(sign_in_data['email'])"
   ]
  },
  {
   "cell_type": "markdown",
   "metadata": {},
   "source": [
    "### retrieve from firestore"
   ]
  },
  {
   "cell_type": "code",
   "execution_count": 6,
   "metadata": {},
   "outputs": [
    {
     "name": "stdout",
     "output_type": "stream",
     "text": [
      "['1007161b.png', '1dc74ae7.png', '5c9c3bca.png', 'baa60c44.png']\n"
     ]
    }
   ],
   "source": [
    "document_id = 'VaQIZzpBplPRuHV9KQzW8kJDJ2f2'\n",
    "doc = db.collection('accounts').document(document_id).get()\n",
    "answered = doc.to_dict()['answered']\n",
    "print(answered)"
   ]
  },
  {
   "cell_type": "markdown",
   "metadata": {},
   "source": [
    "### push file to firestore"
   ]
  },
  {
   "cell_type": "code",
   "execution_count": 7,
   "metadata": {},
   "outputs": [],
   "source": [
    "# question = {\n",
    "#             \"correctAnswer\": 'D',\n",
    "#             \"difficulty\": 'Medium',\n",
    "#             \"photoType\": 'single',\n",
    "#             \"skill\": 'Boundaries',\n",
    "#         }\n",
    "\n",
    "# document_name = \"boop\"\n",
    "\n",
    "# document_ref = db.collection('reading_questions').document(document_name)\n",
    "# document_ref.set(question)"
   ]
  },
  {
   "cell_type": "markdown",
   "metadata": {},
   "source": [
    "### update firestore document"
   ]
  },
  {
   "cell_type": "code",
   "execution_count": null,
   "metadata": {},
   "outputs": [],
   "source": [
    "question_id = '1'\n",
    "db.collection('accounts').document(document_id).update({\n",
    "    'answered': firestore.ArrayUnion([question_id])\n",
    "})"
   ]
  },
  {
   "cell_type": "markdown",
   "metadata": {},
   "source": [
    "### push image(s) to firebase storage"
   ]
  },
  {
   "cell_type": "code",
   "execution_count": 8,
   "metadata": {},
   "outputs": [],
   "source": [
    "def upload_images_to_storage():\n",
    "    bucket = storage.bucket()\n",
    "    for filename in os.listdir('images'):\n",
    "        blob = bucket.blob(filename)\n",
    "        if not blob.exists():\n",
    "            blob.upload_from_filename(f'images/{filename}')\n",
    "        else:\n",
    "            print(f'{filename} already exists in the bucket.')"
   ]
  },
  {
   "cell_type": "markdown",
   "metadata": {},
   "source": [
    "### pull image from firebase storage (as bytes)"
   ]
  },
  {
   "cell_type": "code",
   "execution_count": 9,
   "metadata": {},
   "outputs": [],
   "source": [
    "def fetch_image(image_name):\n",
    "    bucket = storage.bucket()\n",
    "    blob = bucket.blob(image_name)\n",
    "    image_data = blob.download_as_bytes()\n",
    "    return io.BytesIO(image_data)"
   ]
  },
  {
   "cell_type": "code",
   "execution_count": 5,
   "metadata": {},
   "outputs": [
    {
     "name": "stdout",
     "output_type": "stream",
     "text": [
      "None\n"
     ]
    }
   ],
   "source": [
    "question='14b418db'\n",
    "print(db.collection('reading_questions').document(question).get().to_dict())"
   ]
  }
 ],
 "metadata": {
  "kernelspec": {
   "display_name": "Python 3",
   "language": "python",
   "name": "python3"
  },
  "language_info": {
   "codemirror_mode": {
    "name": "ipython",
    "version": 3
   },
   "file_extension": ".py",
   "mimetype": "text/x-python",
   "name": "python",
   "nbconvert_exporter": "python",
   "pygments_lexer": "ipython3",
   "version": "3.10.6"
  }
 },
 "nbformat": 4,
 "nbformat_minor": 2
}
